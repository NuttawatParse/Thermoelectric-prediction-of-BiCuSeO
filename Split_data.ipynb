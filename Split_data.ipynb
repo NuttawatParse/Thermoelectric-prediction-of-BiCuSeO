{
 "cells": [
  {
   "cell_type": "code",
   "execution_count": 11,
   "metadata": {},
   "outputs": [],
   "source": [
    "import os\n",
    "import numpy as np\n",
    "import pandas as pd\n",
    "import matplotlib.pyplot as plt\n",
    "%matplotlib inline\n",
    "%config InlineBackend.figure_format='retina'\n",
    "\n",
    "from sklearn.model_selection import train_test_split\n",
    "\n",
    "# Set a random seed to ensure reproducibility across runs\n",
    "RNG_SEED = 42\n",
    "np.random.seed(seed=RNG_SEED)"
   ]
  },
  {
   "cell_type": "code",
   "execution_count": 12,
   "metadata": {},
   "outputs": [
    {
     "name": "stdout",
     "output_type": "stream",
     "text": [
      "Full DataFrame shape: (152, 5)\n"
     ]
    }
   ],
   "source": [
    "PATH = os.getcwd()\n",
    "data_path = os.path.join(PATH, './zt_data_cleaned.csv')\n",
    "\n",
    "df = pd.read_csv(data_path)\n",
    "print(f'Full DataFrame shape: {df.shape}')"
   ]
  },
  {
   "cell_type": "code",
   "execution_count": 13,
   "metadata": {},
   "outputs": [
    {
     "data": {
      "text/html": [
       "<div>\n",
       "<style scoped>\n",
       "    .dataframe tbody tr th:only-of-type {\n",
       "        vertical-align: middle;\n",
       "    }\n",
       "\n",
       "    .dataframe tbody tr th {\n",
       "        vertical-align: top;\n",
       "    }\n",
       "\n",
       "    .dataframe thead th {\n",
       "        text-align: right;\n",
       "    }\n",
       "</style>\n",
       "<table border=\"1\" class=\"dataframe\">\n",
       "  <thead>\n",
       "    <tr style=\"text-align: right;\">\n",
       "      <th></th>\n",
       "      <th>formula</th>\n",
       "      <th>k</th>\n",
       "      <th>c</th>\n",
       "      <th>s</th>\n",
       "      <th>zt</th>\n",
       "    </tr>\n",
       "  </thead>\n",
       "  <tbody>\n",
       "    <tr>\n",
       "      <th>0</th>\n",
       "      <td>Bi1Cu1Se1O1</td>\n",
       "      <td>1.000000</td>\n",
       "      <td>1.000000</td>\n",
       "      <td>1.000000</td>\n",
       "      <td>1.000000</td>\n",
       "    </tr>\n",
       "    <tr>\n",
       "      <th>1</th>\n",
       "      <td>Bi0.98Sn0.02Cu1Se1O1</td>\n",
       "      <td>1.185518</td>\n",
       "      <td>0.914338</td>\n",
       "      <td>0.992608</td>\n",
       "      <td>0.759896</td>\n",
       "    </tr>\n",
       "    <tr>\n",
       "      <th>2</th>\n",
       "      <td>Bi0.96Sn0.04Cu1Se1O1</td>\n",
       "      <td>1.389035</td>\n",
       "      <td>0.955253</td>\n",
       "      <td>1.025874</td>\n",
       "      <td>0.723758</td>\n",
       "    </tr>\n",
       "    <tr>\n",
       "      <th>3</th>\n",
       "      <td>Bi0.94Sn0.06Cu1Se1O1</td>\n",
       "      <td>1.221515</td>\n",
       "      <td>0.617039</td>\n",
       "      <td>1.170023</td>\n",
       "      <td>0.691516</td>\n",
       "    </tr>\n",
       "    <tr>\n",
       "      <th>4</th>\n",
       "      <td>Bi0.92Sn0.08Cu1Se1O1</td>\n",
       "      <td>1.230375</td>\n",
       "      <td>0.746489</td>\n",
       "      <td>1.073924</td>\n",
       "      <td>0.699733</td>\n",
       "    </tr>\n",
       "  </tbody>\n",
       "</table>\n",
       "</div>"
      ],
      "text/plain": [
       "                formula         k         c         s        zt\n",
       "0           Bi1Cu1Se1O1  1.000000  1.000000  1.000000  1.000000\n",
       "1  Bi0.98Sn0.02Cu1Se1O1  1.185518  0.914338  0.992608  0.759896\n",
       "2  Bi0.96Sn0.04Cu1Se1O1  1.389035  0.955253  1.025874  0.723758\n",
       "3  Bi0.94Sn0.06Cu1Se1O1  1.221515  0.617039  1.170023  0.691516\n",
       "4  Bi0.92Sn0.08Cu1Se1O1  1.230375  0.746489  1.073924  0.699733"
      ]
     },
     "execution_count": 13,
     "metadata": {},
     "output_type": "execute_result"
    }
   ],
   "source": [
    "df.head()"
   ]
  },
  {
   "cell_type": "code",
   "execution_count": 14,
   "metadata": {},
   "outputs": [
    {
     "name": "stdout",
     "output_type": "stream",
     "text": [
      "Shape of X: (152, 4)\n",
      "Shape of y: (152,)\n"
     ]
    },
    {
     "data": {
      "text/html": [
       "<div>\n",
       "<style scoped>\n",
       "    .dataframe tbody tr th:only-of-type {\n",
       "        vertical-align: middle;\n",
       "    }\n",
       "\n",
       "    .dataframe tbody tr th {\n",
       "        vertical-align: top;\n",
       "    }\n",
       "\n",
       "    .dataframe thead th {\n",
       "        text-align: right;\n",
       "    }\n",
       "</style>\n",
       "<table border=\"1\" class=\"dataframe\">\n",
       "  <thead>\n",
       "    <tr style=\"text-align: right;\">\n",
       "      <th></th>\n",
       "      <th>formula</th>\n",
       "      <th>zt</th>\n",
       "      <th>k</th>\n",
       "      <th>s</th>\n",
       "    </tr>\n",
       "  </thead>\n",
       "  <tbody>\n",
       "    <tr>\n",
       "      <th>0</th>\n",
       "      <td>Bi1Cu1Se1O1</td>\n",
       "      <td>1.000000</td>\n",
       "      <td>1.000000</td>\n",
       "      <td>1.000000</td>\n",
       "    </tr>\n",
       "    <tr>\n",
       "      <th>1</th>\n",
       "      <td>Bi0.98Sn0.02Cu1Se1O1</td>\n",
       "      <td>0.759896</td>\n",
       "      <td>1.185518</td>\n",
       "      <td>0.992608</td>\n",
       "    </tr>\n",
       "    <tr>\n",
       "      <th>2</th>\n",
       "      <td>Bi0.96Sn0.04Cu1Se1O1</td>\n",
       "      <td>0.723758</td>\n",
       "      <td>1.389035</td>\n",
       "      <td>1.025874</td>\n",
       "    </tr>\n",
       "    <tr>\n",
       "      <th>3</th>\n",
       "      <td>Bi0.94Sn0.06Cu1Se1O1</td>\n",
       "      <td>0.691516</td>\n",
       "      <td>1.221515</td>\n",
       "      <td>1.170023</td>\n",
       "    </tr>\n",
       "    <tr>\n",
       "      <th>4</th>\n",
       "      <td>Bi0.92Sn0.08Cu1Se1O1</td>\n",
       "      <td>0.699733</td>\n",
       "      <td>1.230375</td>\n",
       "      <td>1.073924</td>\n",
       "    </tr>\n",
       "  </tbody>\n",
       "</table>\n",
       "</div>"
      ],
      "text/plain": [
       "                formula        zt         k         s\n",
       "0           Bi1Cu1Se1O1  1.000000  1.000000  1.000000\n",
       "1  Bi0.98Sn0.02Cu1Se1O1  0.759896  1.185518  0.992608\n",
       "2  Bi0.96Sn0.04Cu1Se1O1  0.723758  1.389035  1.025874\n",
       "3  Bi0.94Sn0.06Cu1Se1O1  0.691516  1.221515  1.170023\n",
       "4  Bi0.92Sn0.08Cu1Se1O1  0.699733  1.230375  1.073924"
      ]
     },
     "execution_count": 14,
     "metadata": {},
     "output_type": "execute_result"
    }
   ],
   "source": [
    "X = df[['formula', 'zt', 'k','s']]\n",
    "y = df['c']\n",
    "\n",
    "print(f'Shape of X: {X.shape}')\n",
    "print(f'Shape of y: {y.shape}')\n",
    "X.head()"
   ]
  },
  {
   "cell_type": "code",
   "execution_count": 15,
   "metadata": {},
   "outputs": [
    {
     "name": "stdout",
     "output_type": "stream",
     "text": [
      "(121, 4)\n",
      "(31, 4)\n"
     ]
    }
   ],
   "source": [
    "X_train, X_test, y_train, y_test = train_test_split(X, y, test_size=0.20, random_state=RNG_SEED)\n",
    "\n",
    "print(X_train.shape)\n",
    "print(X_test.shape)"
   ]
  },
  {
   "cell_type": "code",
   "execution_count": 16,
   "metadata": {},
   "outputs": [
    {
     "name": "stdout",
     "output_type": "stream",
     "text": [
      "There are in total 121 rows in the X_train DataFrame.\n",
      "But there are only 109 unique formulae!\n",
      "\n",
      "Unique formulae and their number of occurances in the X_train DataFrame:\n",
      "Bi0.900Ca0.100Cu1Se1O1    3\n",
      "Bi0.925Ca0.075Cu1Se1O1    3\n",
      "Bi0.92Pb0.08Cu1Se1O1      3\n",
      "Bi0.925Mg0.075Cu1Se1O1    2\n",
      "Bi0.92Na0.08Cu1Se1O1      2\n",
      "                         ..\n",
      "Bi0.94Ag0.06Cu1Se1O1      1\n",
      "Bi0.96Ho0.04Cu1Se1O1      1\n",
      "Bi0.90K0.10Cu1Se1O1       1\n",
      "Bi0.90Y0.10Cu1Se1O1       1\n",
      "Bi0.94Yb0.06Cu1Se1O1      1\n",
      "Name: formula, Length: 109, dtype: int64 \n",
      "\n",
      "Unique formulae and their number of occurances in the X_test DataFrame:\n",
      "Bi0.96Pb0.04Cu1Se1O1          2\n",
      "Bi0.98K0.02Cu1Se1O1           1\n",
      "Bi0.94Pb0.06Cu1Se1O1          1\n",
      "Bi0.98Na0.02Cu1Se1O1          1\n",
      "Bi0.96Ca0.02Pb0.02Cu1Se1O1    1\n",
      "Bi0.94Na0.06Cu1Se1O1          1\n",
      "Bi0.950In0.050Cu1Se1O1        1\n",
      "Bi0.90Na0.10Cu1Se1O1          1\n",
      "Bi0.96Na0.04Cu1Se1O1          1\n",
      "Bi0.850Mg0.150Cu1Se1O1        1\n",
      "Bi0.88Na0.12Cu1Se1O1          1\n",
      "Bi0.92Yb0.08Cu1Se1O1          1\n",
      "Bi0.92Ho0.08Cu1Se1O1          1\n",
      "Bi0.98Ho0.02Cu1Se1O1          1\n",
      "Bi0.950Sr0.050Cu1Se1O1        1\n",
      "Bi0.92La0.02Pb0.06Cu1Se1O1    1\n",
      "Bi0.90Ho0.10Cu1Se1O1          1\n",
      "Bi0.85Yb0.15Cu1Se1O1          1\n",
      "Bi0.990Sb0.010Cu1Se1O1        1\n",
      "Bi0.920Sb0.080Cu1Se1O1        1\n",
      "Bi0.90La0.04Pb0.06Cu1Se1O1    1\n",
      "Bi0.975Ca0.025Cu1Se1O1        1\n",
      "Bi0.90In0.10Cu1Se1O1          1\n",
      "Bi0.84Ca0.08Pb0.08Cu1Se1O1    1\n",
      "Bi0.94La0.00Pb0.06Cu1Se1O1    1\n",
      "Bi0.80Ca0.10Pb0.10Cu1Se1O1    1\n",
      "Bi0.875Ca0.125Cu1Se1O1        1\n",
      "Bi0.94Li0.06Cu1Se1O1          1\n",
      "Bi0.94Er0.06Cu1Se1O1          1\n",
      "Bi0.94Mg0.03Pb0.03Cu1Se1O1    1\n",
      "Name: formula, dtype: int64\n"
     ]
    }
   ],
   "source": [
    "num_rows = len(X_train)\n",
    "print(f'There are in total {num_rows} rows in the X_train DataFrame.')\n",
    "\n",
    "num_unique_formulae = len(X_train['formula'].unique())\n",
    "print(f'But there are only {num_unique_formulae} unique formulae!\\n')\n",
    "\n",
    "print('Unique formulae and their number of occurances in the X_train DataFrame:')\n",
    "print(X_train['formula'].value_counts(), '\\n')\n",
    "print('Unique formulae and their number of occurances in the X_test DataFrame:')\n",
    "print(X_test['formula'].value_counts())"
   ]
  },
  {
   "cell_type": "code",
   "execution_count": 17,
   "metadata": {},
   "outputs": [
    {
     "name": "stdout",
     "output_type": "stream",
     "text": [
      "132 unique formulae:\n",
      "['Bi1Cu1Se1O1' 'Bi0.98Sn0.02Cu1Se1O1' 'Bi0.96Sn0.04Cu1Se1O1'\n",
      " 'Bi0.94Sn0.06Cu1Se1O1' 'Bi0.92Sn0.08Cu1Se1O1' 'Bi0.99Cd0.01Cu1Se1O1'\n",
      " 'Bi0.95Cd0.05Cu1Se1O1' 'Bi0.90Cd0.10Cu1Se1O1' 'Bi0.995Sb0.005Cu1Se1O1'\n",
      " 'Bi0.990Sb0.010Cu1Se1O1' 'Bi0.980Sb0.020Cu1Se1O1'\n",
      " 'Bi0.950Sb0.050Cu1Se1O1' 'Bi0.920Sb0.080Cu1Se1O1' 'Bi0.98Er0.02Cu1Se1O1'\n",
      " 'Bi0.96Er0.04Cu1Se1O1' 'Bi0.94Er0.06Cu1Se1O1' 'Bi0.92Er0.08Cu1Se1O1'\n",
      " 'Bi0.90Er0.10Cu1Se1O1' 'Bi0.96Pb0.04Cu1Se1O1' 'Bi0.94Pb0.06Cu1Se1O1'\n",
      " 'Bi0.92Pb0.08Cu1Se1O1' 'Bi0.975Mg0.25Cu1Se1O1' 'Bi0.95Mg0.05Cu1Se1O1'\n",
      " 'Bi0.925Mg0.075Cu1Se1O1' 'Bi0.9Mg0.1Cu1Se1O1' 'Bi0.875Mg0.125Cu1Se1O1'\n",
      " 'Bi0.850Mg0.150Cu1Se1O1' 'Bi0.825Mg0.175Cu1Se1O1'\n",
      " 'Bi0.800Mg0.200Cu1Se1O1' 'Bi0.98Na0.02Cu1Se1O1' 'Bi0.96Na0.04Cu1Se1O1'\n",
      " 'Bi0.94Na0.06Cu1Se1O1' 'Bi0.92Na0.08Cu1Se1O1' 'Bi0.90Na0.10Cu1Se1O1'\n",
      " 'Bi0.85Na0.15Cu1Se1O1' 'Bi0.80Na0.20Cu1Se1O1' 'Bi0.98K0.02Cu1Se1O1'\n",
      " 'Bi0.96K0.04Cu1Se1O1' 'Bi0.94K0.06Cu1Se1O1' 'Bi0.92K0.08Cu1Se1O1'\n",
      " 'Bi0.90K0.10Cu1Se1O1' 'Bi0.970In0.030Cu1Se1O1' 'Bi0.950In0.050Cu1Se1O1'\n",
      " 'Bi0.925In0.075Cu1Se1O1' 'Bi0.900In0.100Cu1Se1O1'\n",
      " 'Bi0.975Ba0.025Cu1Se1O1' 'Bi0.950Ba0.050Cu1Se1O1'\n",
      " 'Bi0.925Ba0.075Cu1Se1O1' 'Bi0.900Ba0.100Cu1Se1O1'\n",
      " 'Bi0.875Ba0.125Cu1Se1O1' 'Bi0.850Ba0.150Cu1Se1O1'\n",
      " 'Bi0.975Mg0.025Cu1Se1O1' 'Bi0.950Mg0.050Cu1Se1O1'\n",
      " 'Bi0.900Mg0.100Cu1Se1O1' 'Bi0.975Ca0.025Cu1Se1O1'\n",
      " 'Bi0.950Ca0.025Cu1Se1O1' 'Bi0.925Ca0.075Cu1Se1O1'\n",
      " 'Bi0.900Ca0.100Cu1Se1O1' 'Bi0.875Ca0.125Cu1Se1O1'\n",
      " 'Bi0.995Na0.005Cu1Se1O1' 'Bi0.990Na0.010Cu1Se1O1'\n",
      " 'Bi0.985Na0.015Cu1Se1O1' 'Bi0.980Na0.020Cu1Se1O1'\n",
      " 'Bi0.94La0.00Pb0.06Cu1Se1O1' 'Bi0.93La0.01Pb0.06Cu1Se1O1'\n",
      " 'Bi0.92La0.02Pb0.06Cu1Se1O1' 'Bi0.90La0.04Pb0.06Cu1Se1O1'\n",
      " 'Bi0.90Pb0.10Cu1Se1O1' 'Bi0.940La0.060Cu1Se1O1' 'Bi0.920La0.080Cu1Se1O1'\n",
      " 'Bi0.900La0.100Cu1Se1O1' 'Bi0.875La0.125Cu1Se1O1' 'Bi0.96Ag0.04Cu1Se1O1'\n",
      " 'Bi0.94Ag0.06Cu1Se1O1' 'Bi0.92Ag0.08Cu1Se1O1' 'Bi0.90Ag0.10Cu1Se1O1'\n",
      " 'Bi0.98Ca0.01Pb0.01Cu1Se1O1' 'Bi0.96Ca0.02Pb0.02Cu1Se1O1'\n",
      " 'Bi0.92Ca0.04Pb0.04Cu1Se1O1' 'Bi0.88Ca0.06Pb0.06Cu1Se1O1'\n",
      " 'Bi0.84Ca0.08Pb0.08Cu1Se1O1' 'Bi0.80Ca0.10Pb0.10Cu1Se1O1'\n",
      " 'Bi0.95Nd0.05Cu1Se1O1' 'Bi0.90Nd0.10Cu1Se1O1' 'Bi0.85Nd0.15Cu1Se1O1'\n",
      " 'Bi0.950Ca0.050Cu1Se1O1' 'Bi0.750Ba0.250Cu1Se1O1'\n",
      " 'Bi0.94Mg0.03Pb0.03Cu1Se1O1' 'Bi0.88Mg0.06Pb0.06Cu1Se1O1'\n",
      " 'Bi0.82Mg0.09Pb0.09Cu1Se1O1' 'Bi0.960Ca0.040Cu1Se1O1'\n",
      " 'Bi0.850Ca0.150Cu1Se1O1' 'Bi0.98Pb0.02Cu1Se1O1' 'Bi0.88Na0.12Cu1Se1O1'\n",
      " 'Bi0.975Sr0.025Cu1Se1O1' 'Bi0.950Sr0.050Cu1Se1O1'\n",
      " 'Bi0.925Sr0.075Cu1Se1O1' 'Bi0.900Sr0.100Cu1Se1O1'\n",
      " 'Bi0.875Sr0.125Cu1Se1O1' 'Bi0.85Sr0.15Cu1Se1O1' 'Bi0.98Cl0.02Cu1Se1O1'\n",
      " 'Bi0.96Cl0.04Cu1Se1O1' 'Bi0.94Cl0.06Cu1Se1O1' 'Bi0.90Cl0.10Cu1Se1O1'\n",
      " 'Bi0.96Yb0.04Cu1Se1O1' 'Bi0.94Yb0.06Cu1Se1O1' 'Bi0.92Yb0.08Cu1Se1O1'\n",
      " 'Bi0.90Yb0.10Cu1Se1O1' 'Bi0.85Yb0.15Cu1Se1O1' 'Bi0.7Yb0.3Cu1Se1O1'\n",
      " 'Bi0.98In0.02Cu1Se1O1' 'Bi0.96In0.04Cu1Se1O1' 'Bi0.94In0.06Cu1Se1O1'\n",
      " 'Bi0.92In0.08Cu1Se1O1' 'Bi0.90In0.10Cu1Se1O1' 'Bi0.98Ho0.02Cu1Se1O1'\n",
      " 'Bi0.96Ho0.04Cu1Se1O1' 'Bi0.94Ho0.06Cu1Se1O1' 'Bi0.92Ho0.08Cu1Se1O1'\n",
      " 'Bi0.90Ho0.10Cu1Se1O1' 'Bi0.98Y0.02Cu1Se1O1' 'Bi0.96Y0.04Cu1Se1O1'\n",
      " 'Bi0.94Y0.06Cu1Se1O1' 'Bi0.92Y0.08Cu1Se1O1' 'Bi0.90Y0.10Cu1Se1O1'\n",
      " 'Bi0.98Li0.02Cu1Se1O1' 'Bi0.96Li0.04Cu1Se1O1' 'Bi0.94Li0.06Cu1Se1O1'\n",
      " 'Bi0.92Li0.08Cu1Se1O1' 'Bi0.975Sm0.025Cu1Se1O1' 'Bi0.950Sm0.050Cu1Se1O1'\n",
      " 'Bi0.900Sm0.100Cu1Se1O1']\n"
     ]
    }
   ],
   "source": [
    "unique_formulae = X['formula'].unique()\n",
    "print(f'{len(unique_formulae)} unique formulae:\\n{unique_formulae}')\n"
   ]
  },
  {
   "cell_type": "code",
   "execution_count": 23,
   "metadata": {},
   "outputs": [
    {
     "name": "stdout",
     "output_type": "stream",
     "text": [
      "Number of training formulae: 112\n",
      "Number of testing formulae: 20\n"
     ]
    }
   ],
   "source": [
    "# Set a random seed to ensure reproducibility across runs\n",
    "np.random.seed(seed=RNG_SEED)\n",
    "\n",
    "# Store a list of all unique formulae\n",
    "all_formulae = unique_formulae.copy()\n",
    "\n",
    "# Define the proportional size of the dataset split\n",
    "\n",
    "test_size = 0.15\n",
    "\n",
    "\n",
    "\n",
    "\n",
    "train_size = 1 - test_size\n",
    "\n",
    "# Calculate the number of samples in each dataset split\n",
    "\n",
    "num_test_samples = int(round(test_size * len(unique_formulae)))\n",
    "num_train_samples = int(round((1 - test_size) * len(unique_formulae)))\n",
    "\n",
    "# Randomly choose the formulate for the test dataset, and remove those from the unique formulae list\n",
    "test_formulae = np.random.choice(all_formulae, size=num_test_samples, replace=False)\n",
    "all_formulae = [f for f in all_formulae if f not in test_formulae]\n",
    "\n",
    "# The remaining formulae will be used for the training dataset\n",
    "train_formulae = all_formulae.copy()\n",
    "\n",
    "print('Number of training formulae:', len(train_formulae))\n",
    "print('Number of testing formulae:', len(test_formulae))"
   ]
  },
  {
   "cell_type": "code",
   "execution_count": 24,
   "metadata": {},
   "outputs": [
    {
     "name": "stdout",
     "output_type": "stream",
     "text": [
      "train dataset shape: (127, 5)\n",
      "test dataset shape: (25, 5)\n",
      "\n",
      "                formula         k         c         s        zt\n",
      "0           Bi1Cu1Se1O1  1.000000  1.000000  1.000000  1.000000\n",
      "1  Bi0.98Sn0.02Cu1Se1O1  1.185518  0.914338  0.992608  0.759896\n",
      "2  Bi0.96Sn0.04Cu1Se1O1  1.389035  0.955253  1.025874  0.723758\n",
      "3  Bi0.94Sn0.06Cu1Se1O1  1.221515  0.617039  1.170023  0.691516\n",
      "5  Bi0.99Cd0.01Cu1Se1O1  0.835767  1.517739  0.946847  1.628063 \n",
      "\n",
      "                   formula         k         c         s        zt\n",
      "4     Bi0.92Sn0.08Cu1Se1O1  1.230375  0.746489  1.073924  0.699733\n",
      "19    Bi0.94Pb0.06Cu1Se1O1  1.291246  6.048554  0.585423  1.605395\n",
      "26  Bi0.850Mg0.150Cu1Se1O1  1.298553  3.974598  0.792604  1.922854\n",
      "27  Bi0.825Mg0.175Cu1Se1O1  1.403130  4.298077  0.738442  1.670355\n",
      "31    Bi0.94Na0.06Cu1Se1O1  0.759008  1.388908  0.911638  1.520800 \n",
      "\n"
     ]
    }
   ],
   "source": [
    "# Split the original dataset into the train/validation/test datasets using the formulae lists above\n",
    "df_train = df[df['formula'].isin(train_formulae)]\n",
    "\n",
    "df_test = df[df['formula'].isin(test_formulae)]\n",
    "\n",
    "print(f'train dataset shape: {df_train.shape}')\n",
    "\n",
    "print(f'test dataset shape: {df_test.shape}\\n')\n",
    "\n",
    "print(df_train.head(), '\\n')\n",
    "\n",
    "print(df_test.head(), '\\n')"
   ]
  },
  {
   "cell_type": "code",
   "execution_count": 25,
   "metadata": {},
   "outputs": [],
   "source": [
    "# saving these splits into csv files\n",
    "PATH = os.getcwd()\n",
    "\n",
    "train_path = os.path.join(PATH, 'zt_train.csv')\n",
    "\n",
    "test_path = os.path.join(PATH, 'zt_test.csv')\n",
    "\n",
    "df_train.to_csv(train_path, index=False)\n",
    "\n",
    "df_test.to_csv(test_path, index=False)"
   ]
  },
  {
   "cell_type": "code",
   "execution_count": 21,
   "metadata": {},
   "outputs": [],
   "source": [
    "from sklearn.neighbors import KNeighborsClassifier as Knn\n",
    "from sklearn.model_selection import cross_val_score as crovasco\n",
    "from sklearn.preprocessing import StandardScaler\n",
    "from sklearn.preprocessing import normalize"
   ]
  },
  {
   "cell_type": "code",
   "execution_count": 22,
   "metadata": {},
   "outputs": [],
   "source": [
    "from sklearn import preprocessing\n",
    "lab_enc = preprocessing.LabelEncoder()\n",
    "y_train_encoded = lab_enc.fit_transform(y_train)"
   ]
  },
  {
   "cell_type": "code",
   "execution_count": null,
   "metadata": {},
   "outputs": [],
   "source": []
  },
  {
   "cell_type": "code",
   "execution_count": null,
   "metadata": {},
   "outputs": [],
   "source": []
  }
 ],
 "metadata": {
  "kernelspec": {
   "display_name": "Python 3",
   "language": "python",
   "name": "python3"
  },
  "language_info": {
   "codemirror_mode": {
    "name": "ipython",
    "version": 3
   },
   "file_extension": ".py",
   "mimetype": "text/x-python",
   "name": "python",
   "nbconvert_exporter": "python",
   "pygments_lexer": "ipython3",
   "version": "3.7.6"
  }
 },
 "nbformat": 4,
 "nbformat_minor": 4
}
